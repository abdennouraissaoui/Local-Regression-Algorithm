{
 "cells": [
  {
   "cell_type": "code",
   "execution_count": 2,
   "metadata": {},
   "outputs": [],
   "source": [
    "from __future__ import print_function\n",
    "from sklearn.model_selection import train_test_split\n",
    "import matplotlib.pyplot as plt\n",
    "import numpy as np\n",
    "from sklearn.datasets import load_boston\n",
    "from scipy.special import logsumexp\n",
    "np.random.seed(0)"
   ]
  },
  {
   "cell_type": "code",
   "execution_count": 3,
   "metadata": {},
   "outputs": [],
   "source": [
    "# load boston housing prices dataset\n",
    "boston = load_boston()\n",
    "x = boston['data']\n",
    "N = x.shape[0]\n",
    "x = np.concatenate((np.ones((506,1)),x),axis=1)\n",
    "d = x.shape[1]\n",
    "y = boston['target']\n",
    "idx = np.random.permutation(range(N))"
   ]
  },
  {
   "cell_type": "code",
   "execution_count": 4,
   "metadata": {},
   "outputs": [],
   "source": [
    "def l2(A, B):\n",
    "    '''\n",
    "    Input: A is a Nxd matrix\n",
    "           B is a Mxd matirx\n",
    "    Output: dist is a NxM matrix where dist[i,j] is the square norm between A[i,:] and B[j,:]\n",
    "    i.e. dist[i,j] = ||A[i,:]-B[j,:]||^2\n",
    "    '''\n",
    "    A_norm = (A**2).sum(axis=1).reshape(A.shape[0],1)\n",
    "    B_norm = (B**2).sum(axis=1).reshape(1,B.shape[0])\n",
    "    dist = A_norm+B_norm-2*A.dot(B.transpose())\n",
    "    return dist\n",
    "\n",
    "def LRLS(test_datum, x_train, y_train, tau, lam=1e-5):\n",
    "    '''\n",
    "    Given a test datum, it returns its prediction based on locally weighted regression\n",
    "\n",
    "    Input: test_datum is a dx1 test vector\n",
    "           x_train is the N_train x d design matrix\n",
    "           y_train is the N_train x 1 targets vector\n",
    "           tau is the local reweighting parameter\n",
    "           lam is the regularization parameter\n",
    "    output is y_hat the prediction on test_datum\n",
    "    '''\n",
    "    l2_norms = l2(test_datum, x_train)\n",
    "    predicted_y = np.array([])\n",
    "    for i in range(test_datum.shape[0]):\n",
    "        # obtaining the diagonal matrix A:\n",
    "        Ai_denom = logsumexp([-l2_norms[i, j] / (2 * tau**2) for j in range(x_train.shape[0])])\n",
    "        Ai_nums = [-l2_norms[i, j] / (2 * tau**2) for j in range(x_train.shape[0])]\n",
    "        A = np.diag([np.exp(Ai_num - Ai_denom) for Ai_num in Ai_nums])\n",
    "\n",
    "        # Obtaining the optimal weights/coefficients:\n",
    "        a = x_train.transpose().dot(A).dot(x_train)\n",
    "        a_regularized = a + np.identity(a.shape[0]) * lam\n",
    "        b = x_train.transpose().dot(A).dot(y_train)\n",
    "        w = np.linalg.solve(a_regularized, b)\n",
    "        \n",
    "        # computing y-hat\n",
    "        predicted_y = np.append(predicted_y, test_datum[i].dot(w))\n",
    "    return predicted_y\n"
   ]
  },
  {
   "cell_type": "code",
   "execution_count": 5,
   "metadata": {},
   "outputs": [],
   "source": [
    "def run_on_fold(x_test, y_test, x_train, y_train, taus):\n",
    "    '''\n",
    "    Input: x_test is the N_test x d design matrix\n",
    "           y_test is the N_test x 1 targets vector        \n",
    "           x_train is the N_train x d design matrix\n",
    "           y_train is the N_train x 1 targets vector\n",
    "           taus is a vector of tau values to evaluate\n",
    "    output: losses a vector of average losses one for each tau value\n",
    "    '''\n",
    "    losses = np.zeros(taus.shape)\n",
    "    for j, tau in enumerate(taus):\n",
    "        predicted_y = LRLS(x_test, x_train, y_train, tau)\n",
    "        losses[j] = ((predicted_y - y_test) ** 2).mean()\n",
    "    return losses\n",
    "\n",
    "def run_k_fold(x, y, taus, k):\n",
    "    \"\"\"\n",
    "    Input: x is the N x d design matrix\n",
    "           y is the N x 1 targets vector    \n",
    "           taus is a vector of tau values to evaluate\n",
    "           K in the number of folds\n",
    "    output is losses a vector of k-fold cross validation losses one for each tau value\n",
    "    \"\"\"\n",
    "    losses = np.zeros((k, len(taus)))\n",
    "    sub_sample_size = int(N/k)\n",
    "    fold_indices = np.split(idx[:sub_sample_size * k], k)\n",
    "    \n",
    "    for i in range(k):\n",
    "        # indices for the training data\n",
    "        train_indices = np.delete(fold_indices, i, axis=0).flatten()\n",
    "        # indices for the test data\n",
    "        test_indices = fold_indices[i]\n",
    "        \n",
    "        x_test, y_test  = x[test_indices], y[test_indices]\n",
    "        x_train, y_train  = x[train_indices], y[train_indices]\n",
    "        loss = run_on_fold(x_test, y_test, x_train, y_train, taus)\n",
    "        losses[i] = loss\n",
    "    \n",
    "    return losses.mean(0)"
   ]
  },
  {
   "cell_type": "code",
   "execution_count": 6,
   "metadata": {},
   "outputs": [],
   "source": [
    "taus = np.logspace(1.0, 3, 200)\n",
    "losses = run_k_fold(x, y, taus, k=5)"
   ]
  },
  {
   "cell_type": "code",
   "execution_count": 7,
   "metadata": {},
   "outputs": [
    {
     "name": "stdout",
     "output_type": "stream",
     "text": [
      "min loss = 11.985449580854745\n"
     ]
    },
    {
     "data": {
      "image/png": "[encoded data removed]",
      "text/plain": [
       "<Figure size 432x288 with 1 Axes>"
      ]
     },
     "metadata": {
      "needs_background": "light"
     },
     "output_type": "display_data"
    }
   ],
   "source": [
    "plt.scatter(x=taus, y=losses, s=1)\n",
    "plt.ylabel(\"Average Loss\")\n",
    "plt.xlabel(\"Tau (200 points in logscale from 1->3 [10,1000])\")\n",
    "print(\"min loss = {}\".format(losses.min()))"
   ]
  }
 ],
 "metadata": {
  "kernelspec": {
   "display_name": "Python 3",
   "language": "python",
   "name": "python3"
  },
  "language_info": {
   "codemirror_mode": {
    "name": "ipython",
    "version": 3
   },
   "file_extension": ".py",
   "mimetype": "text/x-python",
   "name": "python",
   "nbconvert_exporter": "python",
   "pygments_lexer": "ipython3",
   "version": "3.7.3"
  }
 },
 "nbformat": 4,
 "nbformat_minor": 2
}
